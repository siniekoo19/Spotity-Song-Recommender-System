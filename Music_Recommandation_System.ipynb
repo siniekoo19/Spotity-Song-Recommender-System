{
 "cells": [
  {
   "cell_type": "markdown",
   "metadata": {},
   "source": [
    "## Music Recommandation System Using Spotify Million Song Dataset\n",
    "- Dataset link :- https://www.kaggle.com/datasets/notshrirang/spotify-million-song-dataset"
   ]
  },
  {
   "cell_type": "markdown",
   "metadata": {},
   "source": [
    "### Importing required libraries"
   ]
  },
  {
   "cell_type": "code",
   "execution_count": 84,
   "metadata": {},
   "outputs": [],
   "source": [
    "import numpy as np \n",
    "import pandas as pd\n",
    "from nltk.stem.porter import PorterStemmer\n",
    "from sklearn.feature_extraction.text import CountVectorizer\n",
    "from sklearn.metrics.pairwise import cosine_similarity"
   ]
  },
  {
   "cell_type": "markdown",
   "metadata": {},
   "source": [
    "### Importing Dataset"
   ]
  },
  {
   "cell_type": "code",
   "execution_count": 85,
   "metadata": {},
   "outputs": [
    {
     "data": {
      "text/html": [
       "<div>\n",
       "<style scoped>\n",
       "    .dataframe tbody tr th:only-of-type {\n",
       "        vertical-align: middle;\n",
       "    }\n",
       "\n",
       "    .dataframe tbody tr th {\n",
       "        vertical-align: top;\n",
       "    }\n",
       "\n",
       "    .dataframe thead th {\n",
       "        text-align: right;\n",
       "    }\n",
       "</style>\n",
       "<table border=\"1\" class=\"dataframe\">\n",
       "  <thead>\n",
       "    <tr style=\"text-align: right;\">\n",
       "      <th></th>\n",
       "      <th>artist</th>\n",
       "      <th>song</th>\n",
       "      <th>link</th>\n",
       "      <th>text</th>\n",
       "    </tr>\n",
       "  </thead>\n",
       "  <tbody>\n",
       "    <tr>\n",
       "      <th>0</th>\n",
       "      <td>ABBA</td>\n",
       "      <td>Ahe's My Kind Of Girl</td>\n",
       "      <td>/a/abba/ahes+my+kind+of+girl_20598417.html</td>\n",
       "      <td>Look at her face, it's a wonderful face  \\nAnd...</td>\n",
       "    </tr>\n",
       "    <tr>\n",
       "      <th>1</th>\n",
       "      <td>ABBA</td>\n",
       "      <td>Andante, Andante</td>\n",
       "      <td>/a/abba/andante+andante_20002708.html</td>\n",
       "      <td>Take it easy with me, please  \\nTouch me gentl...</td>\n",
       "    </tr>\n",
       "    <tr>\n",
       "      <th>2</th>\n",
       "      <td>ABBA</td>\n",
       "      <td>As Good As New</td>\n",
       "      <td>/a/abba/as+good+as+new_20003033.html</td>\n",
       "      <td>I'll never know why I had to go  \\nWhy I had t...</td>\n",
       "    </tr>\n",
       "    <tr>\n",
       "      <th>3</th>\n",
       "      <td>ABBA</td>\n",
       "      <td>Bang</td>\n",
       "      <td>/a/abba/bang_20598415.html</td>\n",
       "      <td>Making somebody happy is a question of give an...</td>\n",
       "    </tr>\n",
       "    <tr>\n",
       "      <th>4</th>\n",
       "      <td>ABBA</td>\n",
       "      <td>Bang-A-Boomerang</td>\n",
       "      <td>/a/abba/bang+a+boomerang_20002668.html</td>\n",
       "      <td>Making somebody happy is a question of give an...</td>\n",
       "    </tr>\n",
       "  </tbody>\n",
       "</table>\n",
       "</div>"
      ],
      "text/plain": [
       "  artist                   song                                        link  \\\n",
       "0   ABBA  Ahe's My Kind Of Girl  /a/abba/ahes+my+kind+of+girl_20598417.html   \n",
       "1   ABBA       Andante, Andante       /a/abba/andante+andante_20002708.html   \n",
       "2   ABBA         As Good As New        /a/abba/as+good+as+new_20003033.html   \n",
       "3   ABBA                   Bang                  /a/abba/bang_20598415.html   \n",
       "4   ABBA       Bang-A-Boomerang      /a/abba/bang+a+boomerang_20002668.html   \n",
       "\n",
       "                                                text  \n",
       "0  Look at her face, it's a wonderful face  \\nAnd...  \n",
       "1  Take it easy with me, please  \\nTouch me gentl...  \n",
       "2  I'll never know why I had to go  \\nWhy I had t...  \n",
       "3  Making somebody happy is a question of give an...  \n",
       "4  Making somebody happy is a question of give an...  "
      ]
     },
     "execution_count": 85,
     "metadata": {},
     "output_type": "execute_result"
    }
   ],
   "source": [
    "music = pd.read_csv(\"songdata.csv\")\n",
    "music.head()"
   ]
  },
  {
   "cell_type": "code",
   "execution_count": 86,
   "metadata": {},
   "outputs": [
    {
     "data": {
      "text/plain": [
       "(57650, 4)"
      ]
     },
     "execution_count": 86,
     "metadata": {},
     "output_type": "execute_result"
    }
   ],
   "source": [
    "music.shape"
   ]
  },
  {
   "cell_type": "code",
   "execution_count": 87,
   "metadata": {},
   "outputs": [],
   "source": [
    "music = music.sample(5000).reset_index().drop('index', axis=1)"
   ]
  },
  {
   "cell_type": "code",
   "execution_count": 88,
   "metadata": {},
   "outputs": [
    {
     "data": {
      "text/html": [
       "<div>\n",
       "<style scoped>\n",
       "    .dataframe tbody tr th:only-of-type {\n",
       "        vertical-align: middle;\n",
       "    }\n",
       "\n",
       "    .dataframe tbody tr th {\n",
       "        vertical-align: top;\n",
       "    }\n",
       "\n",
       "    .dataframe thead th {\n",
       "        text-align: right;\n",
       "    }\n",
       "</style>\n",
       "<table border=\"1\" class=\"dataframe\">\n",
       "  <thead>\n",
       "    <tr style=\"text-align: right;\">\n",
       "      <th></th>\n",
       "      <th>artist</th>\n",
       "      <th>song</th>\n",
       "      <th>link</th>\n",
       "      <th>text</th>\n",
       "    </tr>\n",
       "  </thead>\n",
       "  <tbody>\n",
       "    <tr>\n",
       "      <th>0</th>\n",
       "      <td>Engelbert Humperdinck</td>\n",
       "      <td>Portofino</td>\n",
       "      <td>/e/engelbert+humperdinck/portofino_20504141.html</td>\n",
       "      <td>PORTOFINO  \\nWRITERS MARK SPIRO, JACK WHITE  \\...</td>\n",
       "    </tr>\n",
       "    <tr>\n",
       "      <th>1</th>\n",
       "      <td>Ella Fitzgerald</td>\n",
       "      <td>Bewitched</td>\n",
       "      <td>/e/ella+fitzgerald/bewitched_20045684.html</td>\n",
       "      <td>After one whole quart of brandy  \\nLike a dais...</td>\n",
       "    </tr>\n",
       "    <tr>\n",
       "      <th>2</th>\n",
       "      <td>Hank Williams</td>\n",
       "      <td>My Son Calls Another Man Daddy</td>\n",
       "      <td>/h/hank+williams/my+son+calls+another+man+dadd...</td>\n",
       "      <td>Tonight my head is bowed in sorrow  \\nI can't ...</td>\n",
       "    </tr>\n",
       "    <tr>\n",
       "      <th>3</th>\n",
       "      <td>Steely Dan</td>\n",
       "      <td>Your Gold Teeth</td>\n",
       "      <td>/s/steely+dan/your+gold+teeth_20130101.html</td>\n",
       "      <td>Got a feeling I've been here before  \\nWatchin...</td>\n",
       "    </tr>\n",
       "    <tr>\n",
       "      <th>4</th>\n",
       "      <td>Bonnie Raitt</td>\n",
       "      <td>Meet Me Half Way</td>\n",
       "      <td>/b/bonnie+raitt/meet+me+half+way_20022704.html</td>\n",
       "      <td>You come home late from work, baby  \\nYou wond...</td>\n",
       "    </tr>\n",
       "    <tr>\n",
       "      <th>...</th>\n",
       "      <td>...</td>\n",
       "      <td>...</td>\n",
       "      <td>...</td>\n",
       "      <td>...</td>\n",
       "    </tr>\n",
       "    <tr>\n",
       "      <th>4995</th>\n",
       "      <td>Reba Mcentire</td>\n",
       "      <td>But Why</td>\n",
       "      <td>/r/reba+mcentire/but+why_20849162.html</td>\n",
       "      <td>I can open doors all by myself  \\nAnd I'm stro...</td>\n",
       "    </tr>\n",
       "    <tr>\n",
       "      <th>4996</th>\n",
       "      <td>Bruce Springsteen</td>\n",
       "      <td>Jack Of All Trades</td>\n",
       "      <td>/b/bruce+springsteen/jack+of+all+trades_209997...</td>\n",
       "      <td>I'll mow your lawn, clean the leaves out your ...</td>\n",
       "    </tr>\n",
       "    <tr>\n",
       "      <th>4997</th>\n",
       "      <td>Moody Blues</td>\n",
       "      <td>Vintage Wine</td>\n",
       "      <td>/m/moody+blues/vintage+wine_20095862.html</td>\n",
       "      <td>I remember the taste of the vintage wine  \\nFr...</td>\n",
       "    </tr>\n",
       "    <tr>\n",
       "      <th>4998</th>\n",
       "      <td>Chaka Khan</td>\n",
       "      <td>I Hear Music</td>\n",
       "      <td>/c/chaka+khan/i+hear+music_20028852.html</td>\n",
       "      <td>I hear music  \\nMighty fine music  \\nThe murmu...</td>\n",
       "    </tr>\n",
       "    <tr>\n",
       "      <th>4999</th>\n",
       "      <td>Judy Garland</td>\n",
       "      <td>Oceans Apart</td>\n",
       "      <td>/j/judy+garland/oceans+apart_20173519.html</td>\n",
       "      <td>Oceans apart and with only the blue between  \\...</td>\n",
       "    </tr>\n",
       "  </tbody>\n",
       "</table>\n",
       "<p>5000 rows × 4 columns</p>\n",
       "</div>"
      ],
      "text/plain": [
       "                     artist                            song  \\\n",
       "0     Engelbert Humperdinck                       Portofino   \n",
       "1           Ella Fitzgerald                       Bewitched   \n",
       "2             Hank Williams  My Son Calls Another Man Daddy   \n",
       "3                Steely Dan                 Your Gold Teeth   \n",
       "4              Bonnie Raitt                Meet Me Half Way   \n",
       "...                     ...                             ...   \n",
       "4995          Reba Mcentire                         But Why   \n",
       "4996      Bruce Springsteen              Jack Of All Trades   \n",
       "4997            Moody Blues                    Vintage Wine   \n",
       "4998             Chaka Khan                    I Hear Music   \n",
       "4999           Judy Garland                    Oceans Apart   \n",
       "\n",
       "                                                   link  \\\n",
       "0      /e/engelbert+humperdinck/portofino_20504141.html   \n",
       "1            /e/ella+fitzgerald/bewitched_20045684.html   \n",
       "2     /h/hank+williams/my+son+calls+another+man+dadd...   \n",
       "3           /s/steely+dan/your+gold+teeth_20130101.html   \n",
       "4        /b/bonnie+raitt/meet+me+half+way_20022704.html   \n",
       "...                                                 ...   \n",
       "4995             /r/reba+mcentire/but+why_20849162.html   \n",
       "4996  /b/bruce+springsteen/jack+of+all+trades_209997...   \n",
       "4997          /m/moody+blues/vintage+wine_20095862.html   \n",
       "4998           /c/chaka+khan/i+hear+music_20028852.html   \n",
       "4999         /j/judy+garland/oceans+apart_20173519.html   \n",
       "\n",
       "                                                   text  \n",
       "0     PORTOFINO  \\nWRITERS MARK SPIRO, JACK WHITE  \\...  \n",
       "1     After one whole quart of brandy  \\nLike a dais...  \n",
       "2     Tonight my head is bowed in sorrow  \\nI can't ...  \n",
       "3     Got a feeling I've been here before  \\nWatchin...  \n",
       "4     You come home late from work, baby  \\nYou wond...  \n",
       "...                                                 ...  \n",
       "4995  I can open doors all by myself  \\nAnd I'm stro...  \n",
       "4996  I'll mow your lawn, clean the leaves out your ...  \n",
       "4997  I remember the taste of the vintage wine  \\nFr...  \n",
       "4998  I hear music  \\nMighty fine music  \\nThe murmu...  \n",
       "4999  Oceans apart and with only the blue between  \\...  \n",
       "\n",
       "[5000 rows x 4 columns]"
      ]
     },
     "execution_count": 88,
     "metadata": {},
     "output_type": "execute_result"
    }
   ],
   "source": [
    "music"
   ]
  },
  {
   "cell_type": "markdown",
   "metadata": {},
   "source": [
    "### Data Preprocessing"
   ]
  },
  {
   "cell_type": "code",
   "execution_count": 89,
   "metadata": {},
   "outputs": [
    {
     "name": "stdout",
     "output_type": "stream",
     "text": [
      "<class 'pandas.core.frame.DataFrame'>\n",
      "RangeIndex: 5000 entries, 0 to 4999\n",
      "Data columns (total 4 columns):\n",
      " #   Column  Non-Null Count  Dtype \n",
      "---  ------  --------------  ----- \n",
      " 0   artist  5000 non-null   object\n",
      " 1   song    5000 non-null   object\n",
      " 2   link    5000 non-null   object\n",
      " 3   text    5000 non-null   object\n",
      "dtypes: object(4)\n",
      "memory usage: 156.4+ KB\n"
     ]
    }
   ],
   "source": [
    "music.info()"
   ]
  },
  {
   "cell_type": "code",
   "execution_count": 90,
   "metadata": {},
   "outputs": [
    {
     "data": {
      "text/plain": [
       "artist    0\n",
       "song      0\n",
       "link      0\n",
       "text      0\n",
       "dtype: int64"
      ]
     },
     "execution_count": 90,
     "metadata": {},
     "output_type": "execute_result"
    }
   ],
   "source": [
    "music.isnull().sum()"
   ]
  },
  {
   "cell_type": "code",
   "execution_count": 91,
   "metadata": {},
   "outputs": [],
   "source": [
    "music.drop('link', axis=1, inplace=True)"
   ]
  },
  {
   "cell_type": "code",
   "execution_count": 92,
   "metadata": {},
   "outputs": [
    {
     "data": {
      "text/html": [
       "<div>\n",
       "<style scoped>\n",
       "    .dataframe tbody tr th:only-of-type {\n",
       "        vertical-align: middle;\n",
       "    }\n",
       "\n",
       "    .dataframe tbody tr th {\n",
       "        vertical-align: top;\n",
       "    }\n",
       "\n",
       "    .dataframe thead th {\n",
       "        text-align: right;\n",
       "    }\n",
       "</style>\n",
       "<table border=\"1\" class=\"dataframe\">\n",
       "  <thead>\n",
       "    <tr style=\"text-align: right;\">\n",
       "      <th></th>\n",
       "      <th>artist</th>\n",
       "      <th>song</th>\n",
       "      <th>text</th>\n",
       "    </tr>\n",
       "  </thead>\n",
       "  <tbody>\n",
       "    <tr>\n",
       "      <th>1626</th>\n",
       "      <td>Meat Loaf</td>\n",
       "      <td>I'll Kill You If You Don't Come Back</td>\n",
       "      <td>From the minute I turned and laid my eyes on y...</td>\n",
       "    </tr>\n",
       "  </tbody>\n",
       "</table>\n",
       "</div>"
      ],
      "text/plain": [
       "         artist                                  song  \\\n",
       "1626  Meat Loaf  I'll Kill You If You Don't Come Back   \n",
       "\n",
       "                                                   text  \n",
       "1626  From the minute I turned and laid my eyes on y...  "
      ]
     },
     "execution_count": 92,
     "metadata": {},
     "output_type": "execute_result"
    }
   ],
   "source": [
    "music.sample()"
   ]
  },
  {
   "cell_type": "code",
   "execution_count": 93,
   "metadata": {},
   "outputs": [
    {
     "data": {
      "text/plain": [
       "False"
      ]
     },
     "execution_count": 93,
     "metadata": {},
     "output_type": "execute_result"
    }
   ],
   "source": [
    "music.duplicated().any()"
   ]
  },
  {
   "cell_type": "code",
   "execution_count": 94,
   "metadata": {},
   "outputs": [
    {
     "data": {
      "text/plain": [
       "\"PORTOFINO  \\nWRITERS MARK SPIRO, JACK WHITE  \\n  \\nLong ago I used to know where love was found, A place in the sun  \\nLong before this heart of mine had broken down You were the one  \\nBut now you're a lonely memory My heartache will never end  \\nThough all of those nights are far away I wish I were with you again.\\nPortofino I still remember the sun in your hair  \\nPortofino mariachi music that danced in the air  \\nPortofino I want you back in my arms  \\n'Cause every time I close my eyes I'm holding you in the dark  \\nIn Portofino where you broke my heart.  \\nI think of your face and still it can take my breath away After so long  \\nAnd though I'll be lonely living for only yesterday I'll get along  \\nThough now you're a faded memory My heartache will never end  \\nThis unforgotten melody keeps playing over and over again  \\nPortofino I still remember the sun in your hair  \\nPortofino mariachi music that danced in the air  \\nPortofino I want you back in my arms  \\n'Cause every time I close my eyes I'm holding you in the dark  \\nIn Portofino where you broke my heart  \\nIn Portofino where you broke my heart.\\n\\n\""
      ]
     },
     "execution_count": 94,
     "metadata": {},
     "output_type": "execute_result"
    }
   ],
   "source": [
    "music['text'][0]"
   ]
  },
  {
   "cell_type": "code",
   "execution_count": 95,
   "metadata": {},
   "outputs": [],
   "source": [
    "music['text'] = music['text'].str.lower().replace(r'\\n', '', regex=True)"
   ]
  },
  {
   "cell_type": "code",
   "execution_count": 96,
   "metadata": {},
   "outputs": [
    {
     "data": {
      "text/html": [
       "<div>\n",
       "<style scoped>\n",
       "    .dataframe tbody tr th:only-of-type {\n",
       "        vertical-align: middle;\n",
       "    }\n",
       "\n",
       "    .dataframe tbody tr th {\n",
       "        vertical-align: top;\n",
       "    }\n",
       "\n",
       "    .dataframe thead th {\n",
       "        text-align: right;\n",
       "    }\n",
       "</style>\n",
       "<table border=\"1\" class=\"dataframe\">\n",
       "  <thead>\n",
       "    <tr style=\"text-align: right;\">\n",
       "      <th></th>\n",
       "      <th>artist</th>\n",
       "      <th>song</th>\n",
       "      <th>text</th>\n",
       "    </tr>\n",
       "  </thead>\n",
       "  <tbody>\n",
       "    <tr>\n",
       "      <th>0</th>\n",
       "      <td>Engelbert Humperdinck</td>\n",
       "      <td>Portofino</td>\n",
       "      <td>portofino  writers mark spiro, jack white    l...</td>\n",
       "    </tr>\n",
       "    <tr>\n",
       "      <th>1</th>\n",
       "      <td>Ella Fitzgerald</td>\n",
       "      <td>Bewitched</td>\n",
       "      <td>after one whole quart of brandy  like a daisy,...</td>\n",
       "    </tr>\n",
       "    <tr>\n",
       "      <th>2</th>\n",
       "      <td>Hank Williams</td>\n",
       "      <td>My Son Calls Another Man Daddy</td>\n",
       "      <td>tonight my head is bowed in sorrow  i can't ke...</td>\n",
       "    </tr>\n",
       "    <tr>\n",
       "      <th>3</th>\n",
       "      <td>Steely Dan</td>\n",
       "      <td>Your Gold Teeth</td>\n",
       "      <td>got a feeling i've been here before  watching ...</td>\n",
       "    </tr>\n",
       "    <tr>\n",
       "      <th>4</th>\n",
       "      <td>Bonnie Raitt</td>\n",
       "      <td>Meet Me Half Way</td>\n",
       "      <td>you come home late from work, baby  you wonder...</td>\n",
       "    </tr>\n",
       "  </tbody>\n",
       "</table>\n",
       "</div>"
      ],
      "text/plain": [
       "                  artist                            song  \\\n",
       "0  Engelbert Humperdinck                       Portofino   \n",
       "1        Ella Fitzgerald                       Bewitched   \n",
       "2          Hank Williams  My Son Calls Another Man Daddy   \n",
       "3             Steely Dan                 Your Gold Teeth   \n",
       "4           Bonnie Raitt                Meet Me Half Way   \n",
       "\n",
       "                                                text  \n",
       "0  portofino  writers mark spiro, jack white    l...  \n",
       "1  after one whole quart of brandy  like a daisy,...  \n",
       "2  tonight my head is bowed in sorrow  i can't ke...  \n",
       "3  got a feeling i've been here before  watching ...  \n",
       "4  you come home late from work, baby  you wonder...  "
      ]
     },
     "execution_count": 96,
     "metadata": {},
     "output_type": "execute_result"
    }
   ],
   "source": [
    "music.head()"
   ]
  },
  {
   "cell_type": "code",
   "execution_count": 97,
   "metadata": {},
   "outputs": [],
   "source": [
    "music['tags'] = music['artist'] + \" \"+ music['text']"
   ]
  },
  {
   "cell_type": "code",
   "execution_count": 98,
   "metadata": {},
   "outputs": [],
   "source": [
    "music = music[['artist', 'song', 'tags']]"
   ]
  },
  {
   "cell_type": "code",
   "execution_count": 99,
   "metadata": {},
   "outputs": [
    {
     "data": {
      "text/html": [
       "<div>\n",
       "<style scoped>\n",
       "    .dataframe tbody tr th:only-of-type {\n",
       "        vertical-align: middle;\n",
       "    }\n",
       "\n",
       "    .dataframe tbody tr th {\n",
       "        vertical-align: top;\n",
       "    }\n",
       "\n",
       "    .dataframe thead th {\n",
       "        text-align: right;\n",
       "    }\n",
       "</style>\n",
       "<table border=\"1\" class=\"dataframe\">\n",
       "  <thead>\n",
       "    <tr style=\"text-align: right;\">\n",
       "      <th></th>\n",
       "      <th>artist</th>\n",
       "      <th>song</th>\n",
       "      <th>tags</th>\n",
       "    </tr>\n",
       "  </thead>\n",
       "  <tbody>\n",
       "    <tr>\n",
       "      <th>0</th>\n",
       "      <td>Engelbert Humperdinck</td>\n",
       "      <td>Portofino</td>\n",
       "      <td>Engelbert Humperdinck portofino  writers mark ...</td>\n",
       "    </tr>\n",
       "    <tr>\n",
       "      <th>1</th>\n",
       "      <td>Ella Fitzgerald</td>\n",
       "      <td>Bewitched</td>\n",
       "      <td>Ella Fitzgerald after one whole quart of brand...</td>\n",
       "    </tr>\n",
       "    <tr>\n",
       "      <th>2</th>\n",
       "      <td>Hank Williams</td>\n",
       "      <td>My Son Calls Another Man Daddy</td>\n",
       "      <td>Hank Williams tonight my head is bowed in sorr...</td>\n",
       "    </tr>\n",
       "    <tr>\n",
       "      <th>3</th>\n",
       "      <td>Steely Dan</td>\n",
       "      <td>Your Gold Teeth</td>\n",
       "      <td>Steely Dan got a feeling i've been here before...</td>\n",
       "    </tr>\n",
       "    <tr>\n",
       "      <th>4</th>\n",
       "      <td>Bonnie Raitt</td>\n",
       "      <td>Meet Me Half Way</td>\n",
       "      <td>Bonnie Raitt you come home late from work, bab...</td>\n",
       "    </tr>\n",
       "  </tbody>\n",
       "</table>\n",
       "</div>"
      ],
      "text/plain": [
       "                  artist                            song  \\\n",
       "0  Engelbert Humperdinck                       Portofino   \n",
       "1        Ella Fitzgerald                       Bewitched   \n",
       "2          Hank Williams  My Son Calls Another Man Daddy   \n",
       "3             Steely Dan                 Your Gold Teeth   \n",
       "4           Bonnie Raitt                Meet Me Half Way   \n",
       "\n",
       "                                                tags  \n",
       "0  Engelbert Humperdinck portofino  writers mark ...  \n",
       "1  Ella Fitzgerald after one whole quart of brand...  \n",
       "2  Hank Williams tonight my head is bowed in sorr...  \n",
       "3  Steely Dan got a feeling i've been here before...  \n",
       "4  Bonnie Raitt you come home late from work, bab...  "
      ]
     },
     "execution_count": 99,
     "metadata": {},
     "output_type": "execute_result"
    }
   ],
   "source": [
    "music.head()"
   ]
  },
  {
   "cell_type": "code",
   "execution_count": 100,
   "metadata": {},
   "outputs": [],
   "source": [
    "ps = PorterStemmer()\n",
    "\n",
    "def stem(text):\n",
    "    y = []\n",
    "    for i in text.split():\n",
    "        y.append(ps.stem(i))\n",
    "\n",
    "    return \" \".join(y) "
   ]
  },
  {
   "cell_type": "code",
   "execution_count": 101,
   "metadata": {},
   "outputs": [
    {
     "name": "stderr",
     "output_type": "stream",
     "text": [
      "C:\\Users\\91907\\AppData\\Local\\Temp\\ipykernel_22244\\1013811166.py:1: SettingWithCopyWarning: \n",
      "A value is trying to be set on a copy of a slice from a DataFrame.\n",
      "Try using .loc[row_indexer,col_indexer] = value instead\n",
      "\n",
      "See the caveats in the documentation: https://pandas.pydata.org/pandas-docs/stable/user_guide/indexing.html#returning-a-view-versus-a-copy\n",
      "  music['tags'] = music['tags'].apply(stem)\n"
     ]
    }
   ],
   "source": [
    "music['tags'] = music['tags'].apply(stem)"
   ]
  },
  {
   "cell_type": "code",
   "execution_count": 102,
   "metadata": {},
   "outputs": [],
   "source": [
    "cv = CountVectorizer(max_features = 5000, stop_words = 'english')\n",
    "vectors = cv.fit_transform(music['tags']).toarray()"
   ]
  },
  {
   "cell_type": "code",
   "execution_count": 103,
   "metadata": {},
   "outputs": [
    {
     "data": {
      "text/plain": [
       "array(['000', '10', '12', ..., 'zone', 'zoom', 'zz'], dtype=object)"
      ]
     },
     "execution_count": 103,
     "metadata": {},
     "output_type": "execute_result"
    }
   ],
   "source": [
    "cv.get_feature_names_out()"
   ]
  },
  {
   "cell_type": "code",
   "execution_count": 104,
   "metadata": {},
   "outputs": [],
   "source": [
    "similarity = cosine_similarity(vectors)"
   ]
  },
  {
   "cell_type": "code",
   "execution_count": 105,
   "metadata": {},
   "outputs": [],
   "source": [
    "def Recommend(music1):\n",
    "    music_index = music[music['song'] == music1].index[0]\n",
    "    distances = similarity[music_index]\n",
    "    music_list = sorted(list(enumerate(distances)), reverse = True, key = lambda x:x[1])[1:6]\n",
    "\n",
    "    for i in music_list:\n",
    "        print(music.iloc[i[0]].song)"
   ]
  },
  {
   "cell_type": "code",
   "execution_count": 106,
   "metadata": {},
   "outputs": [
    {
     "data": {
      "text/plain": [
       "'Nine Times Blue'"
      ]
     },
     "execution_count": 106,
     "metadata": {},
     "output_type": "execute_result"
    }
   ],
   "source": [
    "music.iloc[48]['song']"
   ]
  },
  {
   "cell_type": "code",
   "execution_count": 107,
   "metadata": {},
   "outputs": [
    {
     "name": "stdout",
     "output_type": "stream",
     "text": [
      "Who Will The Next Fool Be\n",
      "We're In Love\n",
      "We Didn't Know\n",
      "Love Is\n",
      "Headlines\n"
     ]
    }
   ],
   "source": [
    "Recommend(music.iloc[48]['song'])"
   ]
  },
  {
   "cell_type": "code",
   "execution_count": 108,
   "metadata": {},
   "outputs": [],
   "source": [
    "import pickle\n",
    "pickle.dump(music.to_dict(), open('music_dict.pkl','wb'))\n",
    "pickle.dump(similarity,open('similarity.pkl','wb'))"
   ]
  }
 ],
 "metadata": {
  "kernelspec": {
   "display_name": "base",
   "language": "python",
   "name": "python3"
  },
  "language_info": {
   "codemirror_mode": {
    "name": "ipython",
    "version": 3
   },
   "file_extension": ".py",
   "mimetype": "text/x-python",
   "name": "python",
   "nbconvert_exporter": "python",
   "pygments_lexer": "ipython3",
   "version": "3.9.12"
  }
 },
 "nbformat": 4,
 "nbformat_minor": 2
}
